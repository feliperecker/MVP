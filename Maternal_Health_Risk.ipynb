{
  "nbformat": 4,
  "nbformat_minor": 0,
  "metadata": {
    "colab": {
      "provenance": [],
      "include_colab_link": true
    },
    "kernelspec": {
      "name": "python3",
      "display_name": "Python 3"
    }
  },
  "cells": [
    {
      "cell_type": "markdown",
      "metadata": {
        "id": "view-in-github",
        "colab_type": "text"
      },
      "source": [
        "<a href=\"https://colab.research.google.com/github/feliperecker/MVP/blob/main/Maternal_Health_Risk.ipynb\" target=\"_parent\"><img src=\"https://colab.research.google.com/assets/colab-badge.svg\" alt=\"Open In Colab\"/></a>"
      ]
    },
    {
      "cell_type": "markdown",
      "metadata": {
        "id": "xjOpLDcTBbbM"
      },
      "source": [
        "# Prevenção de Riscos à Saúde em Gestantes com Machine Learning\n",
        "\n",
        "### Felipe Coelho Recker Rabello"
      ]
    },
    {
      "cell_type": "markdown",
      "source": [
        "## Definição do Problema"
      ],
      "metadata": {
        "id": "zkazdP8M5iCK"
      }
    },
    {
      "cell_type": "markdown",
      "source": [
        "### Descrição do Problema\n",
        "\n",
        "Objetivo: Desenvolver um modelo de machine learning para classificar o nível de risco de saúde em gestantes, a partir de atributos relacionados à saúde (como pressão arterial, nível de glicose, temperatura corporal e frequência cardíaca). Este modelo pode auxiliar profissionais de saúde a identificar gestantes com risco elevado e priorizar cuidados preventivos.\n",
        "\n",
        "Motivação: Identificar precocemente gestantes em risco pode melhorar o planejamento dos cuidados e potencialmente reduzir complicações graves para mães e bebês.\n",
        "\n",
        "---\n",
        "\n"
      ],
      "metadata": {
        "id": "8aS3_68p6Amq"
      }
    },
    {
      "cell_type": "markdown",
      "source": [
        "### Premissas e Hipóteses\n",
        "\n",
        "Premissas: Os dados coletados são representativos da população de gestantes e refletem bem as condições de saúde materna.\n",
        "As variáveis, como pressão arterial, glicose, temperatura corporal e frequência cardíaca, estão adequadamente relacionadas ao risco de saúde materna.\n",
        "\n",
        "Hipóteses: Existe uma correlação significativa entre os indicadores de saúde (como níveis de pressão arterial e glicose) e o nível de risco de saúde materna.\n",
        "O modelo poderá aprender a distinguir diferentes níveis de risco (como \"baixo\", \"médio\" e \"alto\") com base nesses indicadores de saúde.\n",
        "\n",
        "---\n",
        "\n"
      ],
      "metadata": {
        "id": "_QEV58b963M3"
      }
    },
    {
      "cell_type": "markdown",
      "source": [
        "### Condições para Seleção dos Dados\n",
        "\n",
        "Somente gestantes cujos dados de saúde (idade, pressão arterial, glicose, temperatura corporal e frequência cardíaca) estejam completos e disponíveis para análise.\n",
        "\n",
        "---\n",
        "\n"
      ],
      "metadata": {
        "id": "tcreyCW_7xFR"
      }
    },
    {
      "cell_type": "markdown",
      "source": [
        "### Descrição do Dataset\n",
        "\n",
        "Atributos:\n",
        "*   Idade: Idade da gestante.\n",
        "*   SystolicBP: Pressão arterial sistólica.\n",
        "*   DiastolicBP: Pressão arterial diastólica.\n",
        "*   BS (Blood Sugar): Nível de glicose no sangue.\n",
        "*   BodyTemp: Temperatura corporal.\n",
        "*   HeartRate: Frequência cardíaca.\n",
        "*   RiskLevel: Nível de risco de saúde materna (ex.: \"baixo\", \"médio\", \"alto\").\n",
        "\n",
        "\n",
        "Anotações: Cada entrada inclui o nível de risco atribuído, que será a variável alvo do modelo de classificação.\n",
        "\n",
        "Características: Dados tabulares com variáveis numéricas contínuas e categóricas (nível de risco).\n",
        "\n",
        "---\n",
        "\n"
      ],
      "metadata": {
        "id": "0xUfPeFD79sK"
      }
    },
    {
      "cell_type": "markdown",
      "source": [
        "## **Configuração Inicial e Carregamento do Dataset**"
      ],
      "metadata": {
        "id": "dl2qTbIO6rob"
      }
    },
    {
      "cell_type": "markdown",
      "source": [
        "### Importação de Bibliotecas\n",
        "\n",
        "Este código importa as bibliotecas e classes necessárias para o desenvolvimento do modelo de machine learning."
      ],
      "metadata": {
        "id": "8iuMBpZwrPRK"
      }
    },
    {
      "cell_type": "code",
      "metadata": {
        "id": "sPMp7QfrBZNd"
      },
      "source": [
        "# Configuração para não exibir os warnings\n",
        "import warnings\n",
        "warnings.filterwarnings(\"ignore\")\n",
        "\n",
        "# Imports necessários\n",
        "import pandas as pd\n",
        "import numpy as np\n",
        "import matplotlib.pyplot as plt\n",
        "from sklearn.preprocessing import StandardScaler # padronização dos dados\n",
        "from sklearn.preprocessing import MinMaxScaler # padronização dos dados\n",
        "from sklearn.model_selection import train_test_split # para particionar em bases de treino e teste (holdout)\n",
        "from sklearn.model_selection import KFold # para preparar os folds da validação cruzada\n",
        "from sklearn.model_selection import StratifiedKFold # para executar a estratificação\n",
        "from sklearn.model_selection import cross_val_score # para executar a validação cruzada\n",
        "from sklearn.model_selection import GridSearchCV # para otimização dos hiperparâmetros\n",
        "from sklearn.model_selection import RandomizedSearchCV # para otimização dos hiperparâmetros RF\n",
        "from sklearn.metrics import accuracy_score # para a exibição da acurácia do modelo\n",
        "from sklearn.pipeline import Pipeline # para executar o pipeline\n",
        "from sklearn.tree import DecisionTreeClassifier # algoritmo Árvore de Classificação\n",
        "from sklearn.neighbors import KNeighborsClassifier # algoritmo KNN\n",
        "from sklearn.naive_bayes import GaussianNB # algoritmo Naive Bayes\n",
        "from sklearn.svm import SVC # algoritmo SVM\n",
        "from sklearn.ensemble import BaggingClassifier # algoritmo ensemble Bagging\n",
        "from sklearn.ensemble import RandomForestClassifier # algoritmo ensemble Random Forest\n",
        "from sklearn.ensemble import ExtraTreesClassifier # algoritmo ensemble Árvores Extras\n",
        "from sklearn.ensemble import VotingClassifier # algoritmo ensemble Voting\n",
        "from sklearn.ensemble import GradientBoostingClassifier # algoritmo ensemble GradientBoosting"
      ],
      "execution_count": 4,
      "outputs": []
    },
    {
      "cell_type": "markdown",
      "source": [
        "### Carga do Dataset\n",
        "\n",
        "Este código carrega o dataset de risco de saúde materna diretamente de uma URL e exibe uma amostra inicial para inspeção."
      ],
      "metadata": {
        "id": "QRmNedfBfVSE"
      }
    },
    {
      "cell_type": "code",
      "source": [
        "# Informa a URL de importação do dataset\n",
        "dataset = \"https://raw.githubusercontent.com/feliperecker/MVP/refs/heads/main/Dataset.csv\"\n",
        "\n",
        "# Lê o arquivo\n",
        "dataset = pd.read_csv(dataset, delimiter=',')\n",
        "\n",
        "# Mostra as primeiras linhas do dataset\n",
        "dataset.head()"
      ],
      "metadata": {
        "colab": {
          "base_uri": "https://localhost:8080/",
          "height": 206
        },
        "id": "VGEdZHUpYFpO",
        "outputId": "437d4aa2-14f9-4607-e9bc-1a7d9890cd7d"
      },
      "execution_count": 5,
      "outputs": [
        {
          "output_type": "execute_result",
          "data": {
            "text/plain": [
              "   Age  SystolicBP  DiastolicBP    BS  BodyTemp  HeartRate  RiskLevel\n",
              "0   25         130           80  15.0      98.0         86  high risk\n",
              "1   35         140           90  13.0      98.0         70  high risk\n",
              "2   29          90           70   8.0     100.0         80  high risk\n",
              "3   30         140           85   7.0      98.0         70  high risk\n",
              "4   35         120           60   6.1      98.0         76   low risk"
            ],
            "text/html": [
              "\n",
              "  <div id=\"df-e1d8e933-dff3-49f9-a848-a7b08014bb3d\" class=\"colab-df-container\">\n",
              "    <div>\n",
              "<style scoped>\n",
              "    .dataframe tbody tr th:only-of-type {\n",
              "        vertical-align: middle;\n",
              "    }\n",
              "\n",
              "    .dataframe tbody tr th {\n",
              "        vertical-align: top;\n",
              "    }\n",
              "\n",
              "    .dataframe thead th {\n",
              "        text-align: right;\n",
              "    }\n",
              "</style>\n",
              "<table border=\"1\" class=\"dataframe\">\n",
              "  <thead>\n",
              "    <tr style=\"text-align: right;\">\n",
              "      <th></th>\n",
              "      <th>Age</th>\n",
              "      <th>SystolicBP</th>\n",
              "      <th>DiastolicBP</th>\n",
              "      <th>BS</th>\n",
              "      <th>BodyTemp</th>\n",
              "      <th>HeartRate</th>\n",
              "      <th>RiskLevel</th>\n",
              "    </tr>\n",
              "  </thead>\n",
              "  <tbody>\n",
              "    <tr>\n",
              "      <th>0</th>\n",
              "      <td>25</td>\n",
              "      <td>130</td>\n",
              "      <td>80</td>\n",
              "      <td>15.0</td>\n",
              "      <td>98.0</td>\n",
              "      <td>86</td>\n",
              "      <td>high risk</td>\n",
              "    </tr>\n",
              "    <tr>\n",
              "      <th>1</th>\n",
              "      <td>35</td>\n",
              "      <td>140</td>\n",
              "      <td>90</td>\n",
              "      <td>13.0</td>\n",
              "      <td>98.0</td>\n",
              "      <td>70</td>\n",
              "      <td>high risk</td>\n",
              "    </tr>\n",
              "    <tr>\n",
              "      <th>2</th>\n",
              "      <td>29</td>\n",
              "      <td>90</td>\n",
              "      <td>70</td>\n",
              "      <td>8.0</td>\n",
              "      <td>100.0</td>\n",
              "      <td>80</td>\n",
              "      <td>high risk</td>\n",
              "    </tr>\n",
              "    <tr>\n",
              "      <th>3</th>\n",
              "      <td>30</td>\n",
              "      <td>140</td>\n",
              "      <td>85</td>\n",
              "      <td>7.0</td>\n",
              "      <td>98.0</td>\n",
              "      <td>70</td>\n",
              "      <td>high risk</td>\n",
              "    </tr>\n",
              "    <tr>\n",
              "      <th>4</th>\n",
              "      <td>35</td>\n",
              "      <td>120</td>\n",
              "      <td>60</td>\n",
              "      <td>6.1</td>\n",
              "      <td>98.0</td>\n",
              "      <td>76</td>\n",
              "      <td>low risk</td>\n",
              "    </tr>\n",
              "  </tbody>\n",
              "</table>\n",
              "</div>\n",
              "    <div class=\"colab-df-buttons\">\n",
              "\n",
              "  <div class=\"colab-df-container\">\n",
              "    <button class=\"colab-df-convert\" onclick=\"convertToInteractive('df-e1d8e933-dff3-49f9-a848-a7b08014bb3d')\"\n",
              "            title=\"Convert this dataframe to an interactive table.\"\n",
              "            style=\"display:none;\">\n",
              "\n",
              "  <svg xmlns=\"http://www.w3.org/2000/svg\" height=\"24px\" viewBox=\"0 -960 960 960\">\n",
              "    <path d=\"M120-120v-720h720v720H120Zm60-500h600v-160H180v160Zm220 220h160v-160H400v160Zm0 220h160v-160H400v160ZM180-400h160v-160H180v160Zm440 0h160v-160H620v160ZM180-180h160v-160H180v160Zm440 0h160v-160H620v160Z\"/>\n",
              "  </svg>\n",
              "    </button>\n",
              "\n",
              "  <style>\n",
              "    .colab-df-container {\n",
              "      display:flex;\n",
              "      gap: 12px;\n",
              "    }\n",
              "\n",
              "    .colab-df-convert {\n",
              "      background-color: #E8F0FE;\n",
              "      border: none;\n",
              "      border-radius: 50%;\n",
              "      cursor: pointer;\n",
              "      display: none;\n",
              "      fill: #1967D2;\n",
              "      height: 32px;\n",
              "      padding: 0 0 0 0;\n",
              "      width: 32px;\n",
              "    }\n",
              "\n",
              "    .colab-df-convert:hover {\n",
              "      background-color: #E2EBFA;\n",
              "      box-shadow: 0px 1px 2px rgba(60, 64, 67, 0.3), 0px 1px 3px 1px rgba(60, 64, 67, 0.15);\n",
              "      fill: #174EA6;\n",
              "    }\n",
              "\n",
              "    .colab-df-buttons div {\n",
              "      margin-bottom: 4px;\n",
              "    }\n",
              "\n",
              "    [theme=dark] .colab-df-convert {\n",
              "      background-color: #3B4455;\n",
              "      fill: #D2E3FC;\n",
              "    }\n",
              "\n",
              "    [theme=dark] .colab-df-convert:hover {\n",
              "      background-color: #434B5C;\n",
              "      box-shadow: 0px 1px 3px 1px rgba(0, 0, 0, 0.15);\n",
              "      filter: drop-shadow(0px 1px 2px rgba(0, 0, 0, 0.3));\n",
              "      fill: #FFFFFF;\n",
              "    }\n",
              "  </style>\n",
              "\n",
              "    <script>\n",
              "      const buttonEl =\n",
              "        document.querySelector('#df-e1d8e933-dff3-49f9-a848-a7b08014bb3d button.colab-df-convert');\n",
              "      buttonEl.style.display =\n",
              "        google.colab.kernel.accessAllowed ? 'block' : 'none';\n",
              "\n",
              "      async function convertToInteractive(key) {\n",
              "        const element = document.querySelector('#df-e1d8e933-dff3-49f9-a848-a7b08014bb3d');\n",
              "        const dataTable =\n",
              "          await google.colab.kernel.invokeFunction('convertToInteractive',\n",
              "                                                    [key], {});\n",
              "        if (!dataTable) return;\n",
              "\n",
              "        const docLinkHtml = 'Like what you see? Visit the ' +\n",
              "          '<a target=\"_blank\" href=https://colab.research.google.com/notebooks/data_table.ipynb>data table notebook</a>'\n",
              "          + ' to learn more about interactive tables.';\n",
              "        element.innerHTML = '';\n",
              "        dataTable['output_type'] = 'display_data';\n",
              "        await google.colab.output.renderOutput(dataTable, element);\n",
              "        const docLink = document.createElement('div');\n",
              "        docLink.innerHTML = docLinkHtml;\n",
              "        element.appendChild(docLink);\n",
              "      }\n",
              "    </script>\n",
              "  </div>\n",
              "\n",
              "\n",
              "<div id=\"df-e0f4466e-f91b-436e-a220-0ad5cda04bc8\">\n",
              "  <button class=\"colab-df-quickchart\" onclick=\"quickchart('df-e0f4466e-f91b-436e-a220-0ad5cda04bc8')\"\n",
              "            title=\"Suggest charts\"\n",
              "            style=\"display:none;\">\n",
              "\n",
              "<svg xmlns=\"http://www.w3.org/2000/svg\" height=\"24px\"viewBox=\"0 0 24 24\"\n",
              "     width=\"24px\">\n",
              "    <g>\n",
              "        <path d=\"M19 3H5c-1.1 0-2 .9-2 2v14c0 1.1.9 2 2 2h14c1.1 0 2-.9 2-2V5c0-1.1-.9-2-2-2zM9 17H7v-7h2v7zm4 0h-2V7h2v10zm4 0h-2v-4h2v4z\"/>\n",
              "    </g>\n",
              "</svg>\n",
              "  </button>\n",
              "\n",
              "<style>\n",
              "  .colab-df-quickchart {\n",
              "      --bg-color: #E8F0FE;\n",
              "      --fill-color: #1967D2;\n",
              "      --hover-bg-color: #E2EBFA;\n",
              "      --hover-fill-color: #174EA6;\n",
              "      --disabled-fill-color: #AAA;\n",
              "      --disabled-bg-color: #DDD;\n",
              "  }\n",
              "\n",
              "  [theme=dark] .colab-df-quickchart {\n",
              "      --bg-color: #3B4455;\n",
              "      --fill-color: #D2E3FC;\n",
              "      --hover-bg-color: #434B5C;\n",
              "      --hover-fill-color: #FFFFFF;\n",
              "      --disabled-bg-color: #3B4455;\n",
              "      --disabled-fill-color: #666;\n",
              "  }\n",
              "\n",
              "  .colab-df-quickchart {\n",
              "    background-color: var(--bg-color);\n",
              "    border: none;\n",
              "    border-radius: 50%;\n",
              "    cursor: pointer;\n",
              "    display: none;\n",
              "    fill: var(--fill-color);\n",
              "    height: 32px;\n",
              "    padding: 0;\n",
              "    width: 32px;\n",
              "  }\n",
              "\n",
              "  .colab-df-quickchart:hover {\n",
              "    background-color: var(--hover-bg-color);\n",
              "    box-shadow: 0 1px 2px rgba(60, 64, 67, 0.3), 0 1px 3px 1px rgba(60, 64, 67, 0.15);\n",
              "    fill: var(--button-hover-fill-color);\n",
              "  }\n",
              "\n",
              "  .colab-df-quickchart-complete:disabled,\n",
              "  .colab-df-quickchart-complete:disabled:hover {\n",
              "    background-color: var(--disabled-bg-color);\n",
              "    fill: var(--disabled-fill-color);\n",
              "    box-shadow: none;\n",
              "  }\n",
              "\n",
              "  .colab-df-spinner {\n",
              "    border: 2px solid var(--fill-color);\n",
              "    border-color: transparent;\n",
              "    border-bottom-color: var(--fill-color);\n",
              "    animation:\n",
              "      spin 1s steps(1) infinite;\n",
              "  }\n",
              "\n",
              "  @keyframes spin {\n",
              "    0% {\n",
              "      border-color: transparent;\n",
              "      border-bottom-color: var(--fill-color);\n",
              "      border-left-color: var(--fill-color);\n",
              "    }\n",
              "    20% {\n",
              "      border-color: transparent;\n",
              "      border-left-color: var(--fill-color);\n",
              "      border-top-color: var(--fill-color);\n",
              "    }\n",
              "    30% {\n",
              "      border-color: transparent;\n",
              "      border-left-color: var(--fill-color);\n",
              "      border-top-color: var(--fill-color);\n",
              "      border-right-color: var(--fill-color);\n",
              "    }\n",
              "    40% {\n",
              "      border-color: transparent;\n",
              "      border-right-color: var(--fill-color);\n",
              "      border-top-color: var(--fill-color);\n",
              "    }\n",
              "    60% {\n",
              "      border-color: transparent;\n",
              "      border-right-color: var(--fill-color);\n",
              "    }\n",
              "    80% {\n",
              "      border-color: transparent;\n",
              "      border-right-color: var(--fill-color);\n",
              "      border-bottom-color: var(--fill-color);\n",
              "    }\n",
              "    90% {\n",
              "      border-color: transparent;\n",
              "      border-bottom-color: var(--fill-color);\n",
              "    }\n",
              "  }\n",
              "</style>\n",
              "\n",
              "  <script>\n",
              "    async function quickchart(key) {\n",
              "      const quickchartButtonEl =\n",
              "        document.querySelector('#' + key + ' button');\n",
              "      quickchartButtonEl.disabled = true;  // To prevent multiple clicks.\n",
              "      quickchartButtonEl.classList.add('colab-df-spinner');\n",
              "      try {\n",
              "        const charts = await google.colab.kernel.invokeFunction(\n",
              "            'suggestCharts', [key], {});\n",
              "      } catch (error) {\n",
              "        console.error('Error during call to suggestCharts:', error);\n",
              "      }\n",
              "      quickchartButtonEl.classList.remove('colab-df-spinner');\n",
              "      quickchartButtonEl.classList.add('colab-df-quickchart-complete');\n",
              "    }\n",
              "    (() => {\n",
              "      let quickchartButtonEl =\n",
              "        document.querySelector('#df-e0f4466e-f91b-436e-a220-0ad5cda04bc8 button');\n",
              "      quickchartButtonEl.style.display =\n",
              "        google.colab.kernel.accessAllowed ? 'block' : 'none';\n",
              "    })();\n",
              "  </script>\n",
              "</div>\n",
              "\n",
              "    </div>\n",
              "  </div>\n"
            ],
            "application/vnd.google.colaboratory.intrinsic+json": {
              "type": "dataframe",
              "variable_name": "dataset",
              "summary": "{\n  \"name\": \"dataset\",\n  \"rows\": 1014,\n  \"fields\": [\n    {\n      \"column\": \"Age\",\n      \"properties\": {\n        \"dtype\": \"number\",\n        \"std\": 13,\n        \"min\": 10,\n        \"max\": 70,\n        \"num_unique_values\": 50,\n        \"samples\": [\n          40,\n          43,\n          13\n        ],\n        \"semantic_type\": \"\",\n        \"description\": \"\"\n      }\n    },\n    {\n      \"column\": \"SystolicBP\",\n      \"properties\": {\n        \"dtype\": \"number\",\n        \"std\": 18,\n        \"min\": 70,\n        \"max\": 160,\n        \"num_unique_values\": 19,\n        \"samples\": [\n          130,\n          110,\n          80\n        ],\n        \"semantic_type\": \"\",\n        \"description\": \"\"\n      }\n    },\n    {\n      \"column\": \"DiastolicBP\",\n      \"properties\": {\n        \"dtype\": \"number\",\n        \"std\": 13,\n        \"min\": 49,\n        \"max\": 100,\n        \"num_unique_values\": 16,\n        \"samples\": [\n          80,\n          90,\n          89\n        ],\n        \"semantic_type\": \"\",\n        \"description\": \"\"\n      }\n    },\n    {\n      \"column\": \"BS\",\n      \"properties\": {\n        \"dtype\": \"number\",\n        \"std\": 3.293531721151271,\n        \"min\": 6.0,\n        \"max\": 19.0,\n        \"num_unique_values\": 29,\n        \"samples\": [\n          6.5,\n          7.7,\n          7.1\n        ],\n        \"semantic_type\": \"\",\n        \"description\": \"\"\n      }\n    },\n    {\n      \"column\": \"BodyTemp\",\n      \"properties\": {\n        \"dtype\": \"number\",\n        \"std\": 1.3713843755995325,\n        \"min\": 98.0,\n        \"max\": 103.0,\n        \"num_unique_values\": 8,\n        \"samples\": [\n          100.0,\n          98.4,\n          98.0\n        ],\n        \"semantic_type\": \"\",\n        \"description\": \"\"\n      }\n    },\n    {\n      \"column\": \"HeartRate\",\n      \"properties\": {\n        \"dtype\": \"number\",\n        \"std\": 8,\n        \"min\": 7,\n        \"max\": 90,\n        \"num_unique_values\": 16,\n        \"samples\": [\n          86,\n          70,\n          77\n        ],\n        \"semantic_type\": \"\",\n        \"description\": \"\"\n      }\n    },\n    {\n      \"column\": \"RiskLevel\",\n      \"properties\": {\n        \"dtype\": \"category\",\n        \"num_unique_values\": 3,\n        \"samples\": [\n          \"high risk\",\n          \"low risk\",\n          \"mid risk\"\n        ],\n        \"semantic_type\": \"\",\n        \"description\": \"\"\n      }\n    }\n  ]\n}"
            }
          },
          "metadata": {},
          "execution_count": 5
        }
      ]
    },
    {
      "cell_type": "markdown",
      "source": [
        "## **Preparação dos Dados**"
      ],
      "metadata": {
        "id": "KSiFxBIs17WT"
      }
    },
    {
      "cell_type": "markdown",
      "source": [
        "### Descrição"
      ],
      "metadata": {
        "id": "aj-aIS-gw01Q"
      }
    },
    {
      "cell_type": "markdown",
      "source": [
        "#### Separação do Conjunto de Dados\n",
        "\n",
        "Divide o dataset em variáveis independentes (X) e dependentes (Y). A variável y representa o nível de risco de saúde materna.\n",
        "\n",
        "---"
      ],
      "metadata": {
        "id": "yoWhQYgSvB2w"
      }
    },
    {
      "cell_type": "markdown",
      "source": [
        "#### Divisão em Conjuntos de Treino e Teste\n",
        "\n",
        "Utiliza `train_test_split` para separar os dados em treino (80%) e teste (20%), com estratificação para garantir que a proporção de classes seja mantida nos conjuntos de treino e teste. O parâmetro `random_state` assegura reprodutibilidade dos resultados.\n",
        "\n",
        "---\n",
        "\n"
      ],
      "metadata": {
        "id": "9jkMOb97vzhh"
      }
    },
    {
      "cell_type": "markdown",
      "source": [
        "#### Configuração da Validação Cruzada\n",
        "\n",
        "É utilizada a validação cruzada estratificada (`StratifiedKFold`) para garantir que cada partição na validação mantenha a proporção das classes de risco. A validação cruzada ajuda a verificar a robustez do modelo em diferentes divisões do dataset, o que é importante para evitar overfitting e garantir um bom desempenho generalizado.\n",
        "\n",
        "---\n",
        "\n"
      ],
      "metadata": {
        "id": "54AnHlEcwKo5"
      }
    },
    {
      "cell_type": "markdown",
      "source": [
        "### Preparação e Particionamento dos Dados para Treinamento e Validação\n",
        "\n",
        "Este código prepara o dataset para o treinamento e avaliação do modelo, incluindo a separação dos dados e a configuração da validação cruzada."
      ],
      "metadata": {
        "id": "9ePxn077fikE"
      }
    },
    {
      "cell_type": "code",
      "source": [
        "test_size = 0.20 # tamanho do conjunto de teste\n",
        "seed = 7 # semente aleatória\n",
        "\n",
        "# Separação em conjuntos de treino e teste\n",
        "array = dataset.values\n",
        "X = array[:,0:6]\n",
        "y = array[:,6]\n",
        "X_train, X_test, y_train, y_test = train_test_split(X, y,\n",
        "    test_size=test_size, shuffle=True, random_state=seed, stratify=y) # holdout com estratificação\n",
        "\n",
        "# Parâmetros e partições da validação cruzada\n",
        "scoring = 'accuracy'\n",
        "num_particoes = 10 # Número de partições para a validação cruzada\n",
        "kfold = StratifiedKFold(n_splits=num_particoes, shuffle=True, random_state=seed) # validação cruzada com estratificação"
      ],
      "metadata": {
        "id": "CpZgzNECTmo3"
      },
      "execution_count": 3,
      "outputs": []
    },
    {
      "cell_type": "markdown",
      "source": [
        "## **Modelagem e Inferência**"
      ],
      "metadata": {
        "id": "eAkQQAlHfrHn"
      }
    },
    {
      "cell_type": "markdown",
      "source": [
        "### Descrição"
      ],
      "metadata": {
        "id": "9GxD5bVXlDe4"
      }
    },
    {
      "cell_type": "markdown",
      "source": [
        "#### Seleção dos Algoritmos\n",
        "\n",
        "Foram selecionados algoritmos que lidam bem com dados tabulares e de classificação, incluindo classificadores básicos (KNN, Árvore de Decisão, Naive Bayes, SVM) e ensemble (Random Forest, Extra Trees, Gradient Boosting, Bagging e Voting). A escolha foi baseada na flexibilidade desses algoritmos para ajustar hiperparâmetros e pela capacidade dos ensembles de capturar padrões complexos, tornando-os ideais para aumentar a generalização e a robustez do modelo.\n",
        "\n",
        "---\n",
        "\n"
      ],
      "metadata": {
        "id": "BtCNeQ2GlFdf"
      }
    },
    {
      "cell_type": "markdown",
      "source": [
        "#### Ajuste Inicial dos Hiperparâmetros\n",
        "\n",
        "Parâmetros iniciais, como o número de árvores (`num_trees`) e o número máximo de features (`max_features`), foram definidos para Random Forest e Bagging. Essas configurações ajudam a equilibrar a complexidade do modelo e a eficiência computacional. Além disso, foram construídos pipelines para incluir transformações de pré-processamento com `StandardScaler` e `MinMaxScaler`, ajustando os dados para algoritmos que se beneficiam de inputs em uma escala uniforme.\n",
        "\n",
        "---\n",
        "\n"
      ],
      "metadata": {
        "id": "8ap9mR9NsIzA"
      }
    },
    {
      "cell_type": "markdown",
      "source": [
        "#### Treinamento dos Modelos e Verificação de Underfitting\n",
        "\n",
        "Cada modelo foi treinado com validação cruzada estratificada usando 10 partições, o que ajuda a identificar potenciais problemas de underfitting. O uso de múltiplos algoritmos, permite observar variações no desempenho e ajuda a evitar underfitting, especialmente em modelos básicos, comparados aos ensembles que geralmente oferecem melhor generalização.\n",
        "\n",
        "---\n",
        "\n"
      ],
      "metadata": {
        "id": "ReV-FYLOs4L3"
      }
    },
    {
      "cell_type": "markdown",
      "source": [
        "#### Otimização de Hiperparâmetros\n",
        "\n",
        "Foi realizada a otimização dos hiperparâmetros do modelo K-Nearest Neighbors (KNN), ajustando o número de vizinhos (`n_neighbors`), a métrica de distância (`metric`) e o peso das amostras (`weights`) usando `GridSearchCV`. Esse ajuste visa melhorar a acurácia e a robustez do modelo, maximizando o desempenho nos dados originais, padronizados e normalizados. A abordagem automatizada evita a seleção manual de parâmetros, explorando combinações ideais que melhor capturam a estrutura dos dados para o KNN.\n",
        "\n",
        "---\n",
        "\n"
      ],
      "metadata": {
        "id": "F7i-hmr2tiQm"
      }
    },
    {
      "cell_type": "markdown",
      "source": [
        "#### Uso de Métodos Avançados e Comitê de Modelos (Ensembles)\n",
        "\n",
        "Foram implementados métodos de ensemble, como Random Forest, Extra Trees, Bagging e Voting, para aumentar a robustez e estabilidade do modelo ao combinar previsões de diferentes classificadores. Também foi criado um comitê de modelos (VotingClassifier) que agrega previsões de KNN, Árvore de Decisão e Naive Bayes, para melhorar a acurácia e a generalização.\n",
        "\n",
        "---\n",
        "\n"
      ],
      "metadata": {
        "id": "9p614f9Ht3_V"
      }
    },
    {
      "cell_type": "markdown",
      "source": [
        "### Criação e Avaliação de modelos de Classificação\n",
        "Este código define, avalia e compara modelos de classificação e métodos ensemble para análise de desempenho. Cada modelo é avaliado usando validação cruzada, com os resultados de acurácia média e desvio padrão. Em seguida, um boxplot mostra visualmente a distribuição das acurácias, facilitando a comparação entre os modelos e auxiliando na seleção do classificador mais adequado para o problema."
      ],
      "metadata": {
        "id": "0Vv0OspYgF94"
      }
    },
    {
      "cell_type": "code",
      "source": [
        "np.random.seed(7) # definindo uma semente global\n",
        "\n",
        "# Lista que armazenará os modelos\n",
        "models = []\n",
        "\n",
        "# Criando os modelos e adicionando-os na lista de modelos\n",
        "models.append(('KNN', KNeighborsClassifier()))\n",
        "models.append(('CART', DecisionTreeClassifier()))\n",
        "models.append(('NB', GaussianNB()))\n",
        "models.append(('SVM', SVC()))\n",
        "\n",
        "# Definindo os parâmetros do classificador base para o BaggingClassifier\n",
        "base = DecisionTreeClassifier()\n",
        "num_trees = 100\n",
        "max_features = 3\n",
        "\n",
        "# Criando os modelos para o VotingClassifier\n",
        "bases = []\n",
        "model1 = KNeighborsClassifier()\n",
        "bases.append(('knn', model1))\n",
        "model2 = DecisionTreeClassifier()\n",
        "bases.append(('cart', model2))\n",
        "model3 = GaussianNB()\n",
        "bases.append(('nb', model3))\n",
        "\n",
        "# Criando os ensembles e adicionando-os na lista de modelos\n",
        "models.append(('RF', RandomForestClassifier(n_estimators=num_trees, max_features=max_features)))\n",
        "models.append(('ET', ExtraTreesClassifier(n_estimators=num_trees, max_features=max_features)))\n",
        "models.append(('GB', GradientBoostingClassifier(n_estimators=num_trees)))\n",
        "models.append(('Bagging', BaggingClassifier(n_estimators=num_trees)))\n",
        "models.append(('Voting', VotingClassifier(bases)))\n",
        "\n",
        "# Listas para armazenar os resultados\n",
        "results = []\n",
        "names = []\n",
        "\n",
        "# Avaliação dos modelos\n",
        "for name, model in models:\n",
        "    cv_results = cross_val_score(model, X_train, y_train, cv=kfold, scoring=scoring)\n",
        "    results.append(cv_results)\n",
        "    names.append(name)\n",
        "    msg = \"%s: %f (%f)\" % (name, cv_results.mean(), cv_results.std())\n",
        "    print(msg)\n",
        "\n",
        "# Boxplot de comparação dos modelos\n",
        "fig = plt.figure(figsize=(15,10))\n",
        "fig.suptitle('Comparação dos Modelos')\n",
        "ax = fig.add_subplot(111)\n",
        "plt.boxplot(results)\n",
        "ax.set_xticklabels(names)\n",
        "plt.show()"
      ],
      "metadata": {
        "colab": {
          "base_uri": "https://localhost:8080/",
          "height": 1000
        },
        "id": "WCwi5olTYPXt",
        "outputId": "240beef4-e435-410f-e093-0dc09265c1fe"
      },
      "execution_count": null,
      "outputs": [
        {
          "output_type": "stream",
          "name": "stdout",
          "text": [
            "KNN: 0.699187 (0.023439)\n",
            "CART: 0.823653 (0.020855)\n",
            "NB: 0.622689 (0.033635)\n",
            "SVM: 0.570912 (0.038395)\n",
            "RF: 0.831090 (0.023312)\n",
            "ET: 0.826152 (0.020879)\n",
            "GB: 0.789220 (0.035425)\n",
            "Bagging: 0.836043 (0.017925)\n",
            "Voting: 0.784237 (0.032159)\n"
          ]
        },
        {
          "output_type": "display_data",
          "data": {
            "text/plain": [
              "<Figure size 1500x1000 with 1 Axes>"
            ],
            "image/png": "[encoded data removed]"
          },
          "metadata": {}
        }
      ]
    },
    {
      "cell_type": "markdown",
      "source": [
        "### Criação e Avaliação de Modelos: Dados Padronizados e Normalizados\n",
        "\n",
        "Este código configura pipelines de classificação com três versões do dataset: original, padronizado e normalizado. Ele combina os algoritmos com os diferentes pré-processamentos (`StandardScaler` para padronização e `MinMaxScaler` para normalização). Cada pipeline é avaliado usando validação cruzada, com a média e o desvio padrão da acurácia para cada combinação. Por fim, um boxplot visualiza o desempenho dos modelos, facilitando a comparação entre algoritmos e métodos de pré-processamento"
      ],
      "metadata": {
        "id": "w8FJmJaHgRJE"
      }
    },
    {
      "cell_type": "code",
      "source": [
        "np.random.seed(7) # definindo uma semente global para este bloco\n",
        "\n",
        "# Listas para armazenar os armazenar os pipelines e os resultados para todas as visões do dataset\n",
        "pipelines = []\n",
        "results = []\n",
        "names = []\n",
        "\n",
        "\n",
        "# Criando os elementos do pipeline\n",
        "\n",
        "# Algoritmos que serão utilizados\n",
        "knn = ('KNN', KNeighborsClassifier())\n",
        "cart = ('CART', DecisionTreeClassifier())\n",
        "naive_bayes = ('NB', GaussianNB())\n",
        "svm = ('SVM', SVC())\n",
        "bagging = ('Bag', BaggingClassifier(n_estimators=num_trees))\n",
        "random_forest = ('RF', RandomForestClassifier(n_estimators=num_trees, max_features=max_features))\n",
        "extra_trees = ('ET', ExtraTreesClassifier(n_estimators=num_trees, max_features=max_features))\n",
        "gradient_boosting = ('GB', GradientBoostingClassifier(n_estimators=num_trees))\n",
        "voting = ('Voting', VotingClassifier(bases))\n",
        "\n",
        "# Transformações que serão utilizadas\n",
        "standard_scaler = ('StandardScaler', StandardScaler())\n",
        "min_max_scaler = ('MinMaxScaler', MinMaxScaler())\n",
        "\n",
        "\n",
        "# Montando os pipelines\n",
        "\n",
        "# Dataset Original\n",
        "pipelines.append(('KNN-orig', Pipeline([knn])))\n",
        "pipelines.append(('CART-orig', Pipeline([cart])))\n",
        "pipelines.append(('NB-orig', Pipeline([naive_bayes])))\n",
        "pipelines.append(('SVM-orig', Pipeline([svm])))\n",
        "pipelines.append(('Bag-orig', Pipeline([bagging])))\n",
        "pipelines.append(('RF-orig', Pipeline([random_forest])))\n",
        "pipelines.append(('ET-orig', Pipeline([extra_trees])))\n",
        "pipelines.append(('GB-orig', Pipeline([gradient_boosting])))\n",
        "pipelines.append(('Vot-orig', Pipeline([voting])))\n",
        "\n",
        "# Dataset Padronizado\n",
        "pipelines.append(('KNN-padr', Pipeline([standard_scaler, knn])))\n",
        "pipelines.append(('CART-padr', Pipeline([standard_scaler, cart])))\n",
        "pipelines.append(('NB-padr', Pipeline([standard_scaler, naive_bayes])))\n",
        "pipelines.append(('SVM-padr', Pipeline([standard_scaler, svm])))\n",
        "pipelines.append(('Bag-padr', Pipeline([standard_scaler, bagging])))\n",
        "pipelines.append(('RF-padr', Pipeline([standard_scaler, random_forest])))\n",
        "pipelines.append(('ET-padr', Pipeline([standard_scaler, extra_trees])))\n",
        "pipelines.append(('GB-padr', Pipeline([standard_scaler, gradient_boosting])))\n",
        "pipelines.append(('Vot-padr', Pipeline([standard_scaler, voting])))\n",
        "\n",
        "# Dataset Normalizado\n",
        "pipelines.append(('KNN-norm', Pipeline([min_max_scaler, knn])))\n",
        "pipelines.append(('CART-norm', Pipeline([min_max_scaler, cart])))\n",
        "pipelines.append(('NB-norm', Pipeline([min_max_scaler, naive_bayes])))\n",
        "pipelines.append(('SVM-norm', Pipeline([min_max_scaler, svm])))\n",
        "pipelines.append(('Bag-norm', Pipeline([min_max_scaler, bagging])))\n",
        "pipelines.append(('RF-norm', Pipeline([min_max_scaler, random_forest])))\n",
        "pipelines.append(('ET-norm', Pipeline([min_max_scaler, extra_trees])))\n",
        "pipelines.append(('GB-norm', Pipeline([min_max_scaler, gradient_boosting])))\n",
        "pipelines.append(('Vot-norm', Pipeline([min_max_scaler, voting])))\n",
        "\n",
        "# Executando os pipelines\n",
        "for name, model in pipelines:\n",
        "    cv_results = cross_val_score(model, X_train, y_train, cv=kfold, scoring=scoring)\n",
        "    results.append(cv_results)\n",
        "    names.append(name)\n",
        "    msg = \"%s: %.3f (%.3f)\" % (name, cv_results.mean(), cv_results.std()) # formatando para 3 casas decimais\n",
        "    print(msg)\n",
        "\n",
        "# Boxplot de comparação dos modelos\n",
        "fig = plt.figure(figsize=(25,6))\n",
        "fig.suptitle('Comparação dos Modelos - Dataset orginal, padronizado e normalizado')\n",
        "ax = fig.add_subplot(111)\n",
        "plt.boxplot(results)\n",
        "ax.set_xticklabels(names, rotation=90)\n",
        "plt.show()"
      ],
      "metadata": {
        "colab": {
          "base_uri": "https://localhost:8080/",
          "height": 1000
        },
        "id": "6W6ftDx5YSKZ",
        "outputId": "395e337b-69d8-490a-8f89-f4aff4489bea"
      },
      "execution_count": null,
      "outputs": [
        {
          "output_type": "stream",
          "name": "stdout",
          "text": [
            "KNN-orig: 0.699 (0.023)\n",
            "CART-orig: 0.824 (0.021)\n",
            "NB-orig: 0.623 (0.034)\n",
            "SVM-orig: 0.571 (0.038)\n",
            "Bag-orig: 0.834 (0.017)\n",
            "RF-orig: 0.826 (0.019)\n",
            "ET-orig: 0.826 (0.020)\n",
            "GB-orig: 0.789 (0.035)\n",
            "Vot-orig: 0.784 (0.032)\n",
            "KNN-padr: 0.699 (0.038)\n",
            "CART-padr: 0.815 (0.023)\n",
            "NB-padr: 0.623 (0.034)\n",
            "SVM-padr: 0.708 (0.044)\n",
            "Bag-padr: 0.831 (0.017)\n",
            "RF-padr: 0.824 (0.020)\n",
            "ET-padr: 0.826 (0.018)\n",
            "GB-padr: 0.789 (0.035)\n",
            "Vot-padr: 0.761 (0.040)\n",
            "KNN-norm: 0.714 (0.043)\n",
            "CART-norm: 0.822 (0.023)\n",
            "NB-norm: 0.623 (0.034)\n",
            "SVM-norm: 0.693 (0.046)\n",
            "Bag-norm: 0.830 (0.015)\n",
            "RF-norm: 0.837 (0.022)\n",
            "ET-norm: 0.825 (0.020)\n",
            "GB-norm: 0.789 (0.035)\n",
            "Vot-norm: 0.776 (0.052)\n"
          ]
        },
        {
          "output_type": "display_data",
          "data": {
            "text/plain": [
              "<Figure size 2500x600 with 1 Axes>"
            ],
            "image/png": "[encoded data removed]"
          },
          "metadata": {}
        }
      ]
    },
    {
      "cell_type": "markdown",
      "source": [
        "### Otimização dos Hiperparâmetros\n",
        "\n",
        "Este código ajusta os hiperparâmetros do classificador Random Forest usando `RandomizedSearchCV`. Ele avalia combinações de hiperparâmetros, como o número de estimadores (`n_estimators`), a profundidade máxima das árvores (`max_depth`), o número mínimo de amostras para dividir um nó (`min_samples_split`) e o número mínimo de amostras em cada folha (`min_samples_leaf`). A busca é realizada em um pipeline que utiliza o dataset original, e o melhor score e configuração são exibidos após a execução."
      ],
      "metadata": {
        "id": "dlySN6UzgtnI"
      }
    },
    {
      "cell_type": "code",
      "source": [
        "np.random.seed(7)\n",
        "\n",
        "# Configurando os hiperparâmetros para RandomizedSearchCV\n",
        "param_dist_rf = {\n",
        "    'n_estimators': [50, 100, 150],  # Número de árvores\n",
        "    'max_depth': [None, 10, 20, 30],  # Profundidade máxima\n",
        "    'min_samples_split': [2, 5, 10],  # Mínimo de amostras para dividir um nó\n",
        "    'min_samples_leaf': [1, 2, 4],  # Mínimo de amostras em cada folha\n",
        "    'bootstrap': [True, False],  # Método de amostragem\n",
        "}\n",
        "\n",
        "# Configurando RandomizedSearchCV\n",
        "rf = RandomForestClassifier(random_state=7)\n",
        "random_search = RandomizedSearchCV(\n",
        "    estimator=rf,\n",
        "    param_distributions=param_dist_rf,\n",
        "    n_iter=20,  # Número de combinações aleatórias a testar\n",
        "    scoring=scoring,\n",
        "    cv=kfold,\n",
        "    random_state=7,\n",
        "    n_jobs=-1  # Paralelização para acelerar o processo\n",
        ")\n",
        "\n",
        "# Executa a busca\n",
        "random_search.fit(X_train, y_train)\n",
        "\n",
        "# Melhor resultado\n",
        "print(\"Melhor pontuação: %f usando %s\" % (random_search.best_score_, random_search.best_params_))"
      ],
      "metadata": {
        "colab": {
          "base_uri": "https://localhost:8080/"
        },
        "id": "VhB-3u6rguvW",
        "outputId": "828ab22b-2d94-43a7-9670-c1e3fee7b7a2"
      },
      "execution_count": null,
      "outputs": [
        {
          "output_type": "stream",
          "name": "stdout",
          "text": [
            "Melhor pontuação: 0.831105 usando {'n_estimators': 50, 'min_samples_split': 2, 'min_samples_leaf': 1, 'max_depth': 20, 'bootstrap': False}\n"
          ]
        }
      ]
    },
    {
      "cell_type": "markdown",
      "source": [
        "## **Finalização do Modelo**"
      ],
      "metadata": {
        "id": "EgBIARCPg133"
      }
    },
    {
      "cell_type": "markdown",
      "source": [
        "### Descrição"
      ],
      "metadata": {
        "id": "n1LC8crH_Boc"
      }
    },
    {
      "cell_type": "markdown",
      "source": [
        "#### Seleção das Métricas de Avaliação\n",
        "\n",
        "A métrica escolhida para avaliar o desempenho foi a acurácia, que é adequada para problemas de classificação em que as classes estão balanceadas. A acurácia reflete a proporção de previsões corretas e fornece uma visão clara do desempenho do modelo em dados não vistos.\n",
        "\n",
        "---"
      ],
      "metadata": {
        "id": "7EMTb89w_i4C"
      }
    },
    {
      "cell_type": "markdown",
      "source": [
        "#### Treinamento e Teste do Modelo Final\n",
        "\n",
        "O modelo final selecionado foi treinado com o dataset completo para maximizar o aprendizado dos padrões nos dados. Em seguida, ele foi testado em novos dados, onde a acurácia foi usada para verificar o desempenho final.\n",
        "\n",
        "---\n",
        "\n"
      ],
      "metadata": {
        "id": "ju5tUkb8_rxq"
      }
    },
    {
      "cell_type": "markdown",
      "source": [
        "### Avaliação Final do Modelo no Conjunto de Teste\n",
        "\n",
        "Este código utiliza os melhores hiperparâmetros encontrados durante a otimização para configurar o modelo Random Forest. Os dados de treino são padronizados com o `StandardScaler`, e o mesmo escalador é aplicado ao conjunto de teste para garantir consistência. O modelo é treinado com os dados padronizados de treino e, em seguida, avaliado no conjunto de teste. Por fim, a acurácia do modelo é calculada e exibida, representando o desempenho final."
      ],
      "metadata": {
        "id": "Ef4YhKUc3Gbc"
      }
    },
    {
      "cell_type": "code",
      "source": [
        "# Avaliação do modelo com o conjunto de testes\n",
        "\n",
        "# Aplicando os melhores hiperparâmetros encontrados\n",
        "best_params = random_search.best_params_  # Obtém os melhores parâmetros\n",
        "model = RandomForestClassifier(**best_params, random_state=7)  # Aplica os parâmetros no modelo\n",
        "\n",
        "# Preparação do scaler com o conjunto de treino\n",
        "scaler = StandardScaler().fit(X_train)  # Ajuste do scaler\n",
        "rescaledX = scaler.transform(X_train)  # Padronização no conjunto de treino\n",
        "\n",
        "# Treinamento do modelo\n",
        "model.fit(rescaledX, y_train)\n",
        "\n",
        "# Avaliação do modelo no conjunto de teste\n",
        "rescaledTestX = scaler.transform(X_test)  # Padronização no conjunto de teste\n",
        "predictions = model.predict(rescaledTestX)\n",
        "\n",
        "# Métrica de avaliação\n",
        "print(accuracy_score(y_test, predictions))"
      ],
      "metadata": {
        "colab": {
          "base_uri": "https://localhost:8080/"
        },
        "id": "rJFlc0Srg3-P",
        "outputId": "dbf5610f-1c86-4936-c308-510790793a05"
      },
      "execution_count": null,
      "outputs": [
        {
          "output_type": "stream",
          "name": "stdout",
          "text": [
            "0.8472906403940886\n"
          ]
        }
      ]
    },
    {
      "cell_type": "markdown",
      "source": [
        "### Treinamento Final do Modelo com Todo o Dataset\n",
        "\n",
        "Este código padroniza todo o dataset e treina o modelo final de uma Random Forest  nos dados completos, maximizando o aprendizado para a implementação final."
      ],
      "metadata": {
        "id": "8MY1uDbEhGmP"
      }
    },
    {
      "cell_type": "code",
      "source": [
        "scaler = StandardScaler().fit(X) # ajuste do scaler com TODO o dataset\n",
        "rescaledX = scaler.transform(X) # aplicação da padronização com TODO o dataset\n",
        "model.fit(rescaledX, y)"
      ],
      "metadata": {
        "colab": {
          "base_uri": "https://localhost:8080/",
          "height": 98
        },
        "id": "oCe7Zi3OhEAv",
        "outputId": "7e08b1f4-8fe8-4ea5-ee91-52b2a8bbccbe"
      },
      "execution_count": null,
      "outputs": [
        {
          "output_type": "execute_result",
          "data": {
            "text/plain": [
              "RandomForestClassifier(bootstrap=False, max_depth=20, n_estimators=50,\n",
              "                       random_state=7)"
            ],
            "text/html": [
              "<style>#sk-container-id-4 {\n",
              "  /* Definition of color scheme common for light and dark mode */\n",
              "  --sklearn-color-text: #000;\n",
              "  --sklearn-color-text-muted: #666;\n",
              "  --sklearn-color-line: gray;\n",
              "  /* Definition of color scheme for unfitted estimators */\n",
              "  --sklearn-color-unfitted-level-0: #fff5e6;\n",
              "  --sklearn-color-unfitted-level-1: #f6e4d2;\n",
              "  --sklearn-color-unfitted-level-2: #ffe0b3;\n",
              "  --sklearn-color-unfitted-level-3: chocolate;\n",
              "  /* Definition of color scheme for fitted estimators */\n",
              "  --sklearn-color-fitted-level-0: #f0f8ff;\n",
              "  --sklearn-color-fitted-level-1: #d4ebff;\n",
              "  --sklearn-color-fitted-level-2: #b3dbfd;\n",
              "  --sklearn-color-fitted-level-3: cornflowerblue;\n",
              "\n",
              "  /* Specific color for light theme */\n",
              "  --sklearn-color-text-on-default-background: var(--sg-text-color, var(--theme-code-foreground, var(--jp-content-font-color1, black)));\n",
              "  --sklearn-color-background: var(--sg-background-color, var(--theme-background, var(--jp-layout-color0, white)));\n",
              "  --sklearn-color-border-box: var(--sg-text-color, var(--theme-code-foreground, var(--jp-content-font-color1, black)));\n",
              "  --sklearn-color-icon: #696969;\n",
              "\n",
              "  @media (prefers-color-scheme: dark) {\n",
              "    /* Redefinition of color scheme for dark theme */\n",
              "    --sklearn-color-text-on-default-background: var(--sg-text-color, var(--theme-code-foreground, var(--jp-content-font-color1, white)));\n",
              "    --sklearn-color-background: var(--sg-background-color, var(--theme-background, var(--jp-layout-color0, #111)));\n",
              "    --sklearn-color-border-box: var(--sg-text-color, var(--theme-code-foreground, var(--jp-content-font-color1, white)));\n",
              "    --sklearn-color-icon: #878787;\n",
              "  }\n",
              "}\n",
              "\n",
              "#sk-container-id-4 {\n",
              "  color: var(--sklearn-color-text);\n",
              "}\n",
              "\n",
              "#sk-container-id-4 pre {\n",
              "  padding: 0;\n",
              "}\n",
              "\n",
              "#sk-container-id-4 input.sk-hidden--visually {\n",
              "  border: 0;\n",
              "  clip: rect(1px 1px 1px 1px);\n",
              "  clip: rect(1px, 1px, 1px, 1px);\n",
              "  height: 1px;\n",
              "  margin: -1px;\n",
              "  overflow: hidden;\n",
              "  padding: 0;\n",
              "  position: absolute;\n",
              "  width: 1px;\n",
              "}\n",
              "\n",
              "#sk-container-id-4 div.sk-dashed-wrapped {\n",
              "  border: 1px dashed var(--sklearn-color-line);\n",
              "  margin: 0 0.4em 0.5em 0.4em;\n",
              "  box-sizing: border-box;\n",
              "  padding-bottom: 0.4em;\n",
              "  background-color: var(--sklearn-color-background);\n",
              "}\n",
              "\n",
              "#sk-container-id-4 div.sk-container {\n",
              "  /* jupyter's `normalize.less` sets `[hidden] { display: none; }`\n",
              "     but bootstrap.min.css set `[hidden] { display: none !important; }`\n",
              "     so we also need the `!important` here to be able to override the\n",
              "     default hidden behavior on the sphinx rendered scikit-learn.org.\n",
              "     See: https://github.com/scikit-learn/scikit-learn/issues/21755 */\n",
              "  display: inline-block !important;\n",
              "  position: relative;\n",
              "}\n",
              "\n",
              "#sk-container-id-4 div.sk-text-repr-fallback {\n",
              "  display: none;\n",
              "}\n",
              "\n",
              "div.sk-parallel-item,\n",
              "div.sk-serial,\n",
              "div.sk-item {\n",
              "  /* draw centered vertical line to link estimators */\n",
              "  background-image: linear-gradient(var(--sklearn-color-text-on-default-background), var(--sklearn-color-text-on-default-background));\n",
              "  background-size: 2px 100%;\n",
              "  background-repeat: no-repeat;\n",
              "  background-position: center center;\n",
              "}\n",
              "\n",
              "/* Parallel-specific style estimator block */\n",
              "\n",
              "#sk-container-id-4 div.sk-parallel-item::after {\n",
              "  content: \"\";\n",
              "  width: 100%;\n",
              "  border-bottom: 2px solid var(--sklearn-color-text-on-default-background);\n",
              "  flex-grow: 1;\n",
              "}\n",
              "\n",
              "#sk-container-id-4 div.sk-parallel {\n",
              "  display: flex;\n",
              "  align-items: stretch;\n",
              "  justify-content: center;\n",
              "  background-color: var(--sklearn-color-background);\n",
              "  position: relative;\n",
              "}\n",
              "\n",
              "#sk-container-id-4 div.sk-parallel-item {\n",
              "  display: flex;\n",
              "  flex-direction: column;\n",
              "}\n",
              "\n",
              "#sk-container-id-4 div.sk-parallel-item:first-child::after {\n",
              "  align-self: flex-end;\n",
              "  width: 50%;\n",
              "}\n",
              "\n",
              "#sk-container-id-4 div.sk-parallel-item:last-child::after {\n",
              "  align-self: flex-start;\n",
              "  width: 50%;\n",
              "}\n",
              "\n",
              "#sk-container-id-4 div.sk-parallel-item:only-child::after {\n",
              "  width: 0;\n",
              "}\n",
              "\n",
              "/* Serial-specific style estimator block */\n",
              "\n",
              "#sk-container-id-4 div.sk-serial {\n",
              "  display: flex;\n",
              "  flex-direction: column;\n",
              "  align-items: center;\n",
              "  background-color: var(--sklearn-color-background);\n",
              "  padding-right: 1em;\n",
              "  padding-left: 1em;\n",
              "}\n",
              "\n",
              "\n",
              "/* Toggleable style: style used for estimator/Pipeline/ColumnTransformer box that is\n",
              "clickable and can be expanded/collapsed.\n",
              "- Pipeline and ColumnTransformer use this feature and define the default style\n",
              "- Estimators will overwrite some part of the style using the `sk-estimator` class\n",
              "*/\n",
              "\n",
              "/* Pipeline and ColumnTransformer style (default) */\n",
              "\n",
              "#sk-container-id-4 div.sk-toggleable {\n",
              "  /* Default theme specific background. It is overwritten whether we have a\n",
              "  specific estimator or a Pipeline/ColumnTransformer */\n",
              "  background-color: var(--sklearn-color-background);\n",
              "}\n",
              "\n",
              "/* Toggleable label */\n",
              "#sk-container-id-4 label.sk-toggleable__label {\n",
              "  cursor: pointer;\n",
              "  display: flex;\n",
              "  width: 100%;\n",
              "  margin-bottom: 0;\n",
              "  padding: 0.5em;\n",
              "  box-sizing: border-box;\n",
              "  text-align: center;\n",
              "  align-items: start;\n",
              "  justify-content: space-between;\n",
              "  gap: 0.5em;\n",
              "}\n",
              "\n",
              "#sk-container-id-4 label.sk-toggleable__label .caption {\n",
              "  font-size: 0.6rem;\n",
              "  font-weight: lighter;\n",
              "  color: var(--sklearn-color-text-muted);\n",
              "}\n",
              "\n",
              "#sk-container-id-4 label.sk-toggleable__label-arrow:before {\n",
              "  /* Arrow on the left of the label */\n",
              "  content: \"▸\";\n",
              "  float: left;\n",
              "  margin-right: 0.25em;\n",
              "  color: var(--sklearn-color-icon);\n",
              "}\n",
              "\n",
              "#sk-container-id-4 label.sk-toggleable__label-arrow:hover:before {\n",
              "  color: var(--sklearn-color-text);\n",
              "}\n",
              "\n",
              "/* Toggleable content - dropdown */\n",
              "\n",
              "#sk-container-id-4 div.sk-toggleable__content {\n",
              "  max-height: 0;\n",
              "  max-width: 0;\n",
              "  overflow: hidden;\n",
              "  text-align: left;\n",
              "  /* unfitted */\n",
              "  background-color: var(--sklearn-color-unfitted-level-0);\n",
              "}\n",
              "\n",
              "#sk-container-id-4 div.sk-toggleable__content.fitted {\n",
              "  /* fitted */\n",
              "  background-color: var(--sklearn-color-fitted-level-0);\n",
              "}\n",
              "\n",
              "#sk-container-id-4 div.sk-toggleable__content pre {\n",
              "  margin: 0.2em;\n",
              "  border-radius: 0.25em;\n",
              "  color: var(--sklearn-color-text);\n",
              "  /* unfitted */\n",
              "  background-color: var(--sklearn-color-unfitted-level-0);\n",
              "}\n",
              "\n",
              "#sk-container-id-4 div.sk-toggleable__content.fitted pre {\n",
              "  /* unfitted */\n",
              "  background-color: var(--sklearn-color-fitted-level-0);\n",
              "}\n",
              "\n",
              "#sk-container-id-4 input.sk-toggleable__control:checked~div.sk-toggleable__content {\n",
              "  /* Expand drop-down */\n",
              "  max-height: 200px;\n",
              "  max-width: 100%;\n",
              "  overflow: auto;\n",
              "}\n",
              "\n",
              "#sk-container-id-4 input.sk-toggleable__control:checked~label.sk-toggleable__label-arrow:before {\n",
              "  content: \"▾\";\n",
              "}\n",
              "\n",
              "/* Pipeline/ColumnTransformer-specific style */\n",
              "\n",
              "#sk-container-id-4 div.sk-label input.sk-toggleable__control:checked~label.sk-toggleable__label {\n",
              "  color: var(--sklearn-color-text);\n",
              "  background-color: var(--sklearn-color-unfitted-level-2);\n",
              "}\n",
              "\n",
              "#sk-container-id-4 div.sk-label.fitted input.sk-toggleable__control:checked~label.sk-toggleable__label {\n",
              "  background-color: var(--sklearn-color-fitted-level-2);\n",
              "}\n",
              "\n",
              "/* Estimator-specific style */\n",
              "\n",
              "/* Colorize estimator box */\n",
              "#sk-container-id-4 div.sk-estimator input.sk-toggleable__control:checked~label.sk-toggleable__label {\n",
              "  /* unfitted */\n",
              "  background-color: var(--sklearn-color-unfitted-level-2);\n",
              "}\n",
              "\n",
              "#sk-container-id-4 div.sk-estimator.fitted input.sk-toggleable__control:checked~label.sk-toggleable__label {\n",
              "  /* fitted */\n",
              "  background-color: var(--sklearn-color-fitted-level-2);\n",
              "}\n",
              "\n",
              "#sk-container-id-4 div.sk-label label.sk-toggleable__label,\n",
              "#sk-container-id-4 div.sk-label label {\n",
              "  /* The background is the default theme color */\n",
              "  color: var(--sklearn-color-text-on-default-background);\n",
              "}\n",
              "\n",
              "/* On hover, darken the color of the background */\n",
              "#sk-container-id-4 div.sk-label:hover label.sk-toggleable__label {\n",
              "  color: var(--sklearn-color-text);\n",
              "  background-color: var(--sklearn-color-unfitted-level-2);\n",
              "}\n",
              "\n",
              "/* Label box, darken color on hover, fitted */\n",
              "#sk-container-id-4 div.sk-label.fitted:hover label.sk-toggleable__label.fitted {\n",
              "  color: var(--sklearn-color-text);\n",
              "  background-color: var(--sklearn-color-fitted-level-2);\n",
              "}\n",
              "\n",
              "/* Estimator label */\n",
              "\n",
              "#sk-container-id-4 div.sk-label label {\n",
              "  font-family: monospace;\n",
              "  font-weight: bold;\n",
              "  display: inline-block;\n",
              "  line-height: 1.2em;\n",
              "}\n",
              "\n",
              "#sk-container-id-4 div.sk-label-container {\n",
              "  text-align: center;\n",
              "}\n",
              "\n",
              "/* Estimator-specific */\n",
              "#sk-container-id-4 div.sk-estimator {\n",
              "  font-family: monospace;\n",
              "  border: 1px dotted var(--sklearn-color-border-box);\n",
              "  border-radius: 0.25em;\n",
              "  box-sizing: border-box;\n",
              "  margin-bottom: 0.5em;\n",
              "  /* unfitted */\n",
              "  background-color: var(--sklearn-color-unfitted-level-0);\n",
              "}\n",
              "\n",
              "#sk-container-id-4 div.sk-estimator.fitted {\n",
              "  /* fitted */\n",
              "  background-color: var(--sklearn-color-fitted-level-0);\n",
              "}\n",
              "\n",
              "/* on hover */\n",
              "#sk-container-id-4 div.sk-estimator:hover {\n",
              "  /* unfitted */\n",
              "  background-color: var(--sklearn-color-unfitted-level-2);\n",
              "}\n",
              "\n",
              "#sk-container-id-4 div.sk-estimator.fitted:hover {\n",
              "  /* fitted */\n",
              "  background-color: var(--sklearn-color-fitted-level-2);\n",
              "}\n",
              "\n",
              "/* Specification for estimator info (e.g. \"i\" and \"?\") */\n",
              "\n",
              "/* Common style for \"i\" and \"?\" */\n",
              "\n",
              ".sk-estimator-doc-link,\n",
              "a:link.sk-estimator-doc-link,\n",
              "a:visited.sk-estimator-doc-link {\n",
              "  float: right;\n",
              "  font-size: smaller;\n",
              "  line-height: 1em;\n",
              "  font-family: monospace;\n",
              "  background-color: var(--sklearn-color-background);\n",
              "  border-radius: 1em;\n",
              "  height: 1em;\n",
              "  width: 1em;\n",
              "  text-decoration: none !important;\n",
              "  margin-left: 0.5em;\n",
              "  text-align: center;\n",
              "  /* unfitted */\n",
              "  border: var(--sklearn-color-unfitted-level-1) 1pt solid;\n",
              "  color: var(--sklearn-color-unfitted-level-1);\n",
              "}\n",
              "\n",
              ".sk-estimator-doc-link.fitted,\n",
              "a:link.sk-estimator-doc-link.fitted,\n",
              "a:visited.sk-estimator-doc-link.fitted {\n",
              "  /* fitted */\n",
              "  border: var(--sklearn-color-fitted-level-1) 1pt solid;\n",
              "  color: var(--sklearn-color-fitted-level-1);\n",
              "}\n",
              "\n",
              "/* On hover */\n",
              "div.sk-estimator:hover .sk-estimator-doc-link:hover,\n",
              ".sk-estimator-doc-link:hover,\n",
              "div.sk-label-container:hover .sk-estimator-doc-link:hover,\n",
              ".sk-estimator-doc-link:hover {\n",
              "  /* unfitted */\n",
              "  background-color: var(--sklearn-color-unfitted-level-3);\n",
              "  color: var(--sklearn-color-background);\n",
              "  text-decoration: none;\n",
              "}\n",
              "\n",
              "div.sk-estimator.fitted:hover .sk-estimator-doc-link.fitted:hover,\n",
              ".sk-estimator-doc-link.fitted:hover,\n",
              "div.sk-label-container:hover .sk-estimator-doc-link.fitted:hover,\n",
              ".sk-estimator-doc-link.fitted:hover {\n",
              "  /* fitted */\n",
              "  background-color: var(--sklearn-color-fitted-level-3);\n",
              "  color: var(--sklearn-color-background);\n",
              "  text-decoration: none;\n",
              "}\n",
              "\n",
              "/* Span, style for the box shown on hovering the info icon */\n",
              ".sk-estimator-doc-link span {\n",
              "  display: none;\n",
              "  z-index: 9999;\n",
              "  position: relative;\n",
              "  font-weight: normal;\n",
              "  right: .2ex;\n",
              "  padding: .5ex;\n",
              "  margin: .5ex;\n",
              "  width: min-content;\n",
              "  min-width: 20ex;\n",
              "  max-width: 50ex;\n",
              "  color: var(--sklearn-color-text);\n",
              "  box-shadow: 2pt 2pt 4pt #999;\n",
              "  /* unfitted */\n",
              "  background: var(--sklearn-color-unfitted-level-0);\n",
              "  border: .5pt solid var(--sklearn-color-unfitted-level-3);\n",
              "}\n",
              "\n",
              ".sk-estimator-doc-link.fitted span {\n",
              "  /* fitted */\n",
              "  background: var(--sklearn-color-fitted-level-0);\n",
              "  border: var(--sklearn-color-fitted-level-3);\n",
              "}\n",
              "\n",
              ".sk-estimator-doc-link:hover span {\n",
              "  display: block;\n",
              "}\n",
              "\n",
              "/* \"?\"-specific style due to the `<a>` HTML tag */\n",
              "\n",
              "#sk-container-id-4 a.estimator_doc_link {\n",
              "  float: right;\n",
              "  font-size: 1rem;\n",
              "  line-height: 1em;\n",
              "  font-family: monospace;\n",
              "  background-color: var(--sklearn-color-background);\n",
              "  border-radius: 1rem;\n",
              "  height: 1rem;\n",
              "  width: 1rem;\n",
              "  text-decoration: none;\n",
              "  /* unfitted */\n",
              "  color: var(--sklearn-color-unfitted-level-1);\n",
              "  border: var(--sklearn-color-unfitted-level-1) 1pt solid;\n",
              "}\n",
              "\n",
              "#sk-container-id-4 a.estimator_doc_link.fitted {\n",
              "  /* fitted */\n",
              "  border: var(--sklearn-color-fitted-level-1) 1pt solid;\n",
              "  color: var(--sklearn-color-fitted-level-1);\n",
              "}\n",
              "\n",
              "/* On hover */\n",
              "#sk-container-id-4 a.estimator_doc_link:hover {\n",
              "  /* unfitted */\n",
              "  background-color: var(--sklearn-color-unfitted-level-3);\n",
              "  color: var(--sklearn-color-background);\n",
              "  text-decoration: none;\n",
              "}\n",
              "\n",
              "#sk-container-id-4 a.estimator_doc_link.fitted:hover {\n",
              "  /* fitted */\n",
              "  background-color: var(--sklearn-color-fitted-level-3);\n",
              "}\n",
              "</style><div id=\"sk-container-id-4\" class=\"sk-top-container\"><div class=\"sk-text-repr-fallback\"><pre>RandomForestClassifier(bootstrap=False, max_depth=20, n_estimators=50,\n",
              "                       random_state=7)</pre><b>In a Jupyter environment, please rerun this cell to show the HTML representation or trust the notebook. <br />On GitHub, the HTML representation is unable to render, please try loading this page with nbviewer.org.</b></div><div class=\"sk-container\" hidden><div class=\"sk-item\"><div class=\"sk-estimator fitted sk-toggleable\"><input class=\"sk-toggleable__control sk-hidden--visually\" id=\"sk-estimator-id-4\" type=\"checkbox\" checked><label for=\"sk-estimator-id-4\" class=\"sk-toggleable__label fitted sk-toggleable__label-arrow\"><div><div>RandomForestClassifier</div></div><div><a class=\"sk-estimator-doc-link fitted\" rel=\"noreferrer\" target=\"_blank\" href=\"https://scikit-learn.org/1.6/modules/generated/sklearn.ensemble.RandomForestClassifier.html\">?<span>Documentation for RandomForestClassifier</span></a><span class=\"sk-estimator-doc-link fitted\">i<span>Fitted</span></span></div></label><div class=\"sk-toggleable__content fitted\"><pre>RandomForestClassifier(bootstrap=False, max_depth=20, n_estimators=50,\n",
              "                       random_state=7)</pre></div> </div></div></div></div>"
            ]
          },
          "metadata": {},
          "execution_count": 39
        }
      ]
    },
    {
      "cell_type": "markdown",
      "source": [
        "### Simulando a Aplicação do Modelo em Dados não Vistos\n",
        "\n",
        "Este código cria um DataFrame com novos dados de entrada e aplica o mesmo `StandardScaler` usado no dataset de treino para padronizá-los. Isso garante que os novos dados estejam na mesma escala dos dados de treinamento, permitindo que o modelo faça previsões de forma consistente."
      ],
      "metadata": {
        "id": "UlOw9Y7UhTaw"
      }
    },
    {
      "cell_type": "code",
      "source": [
        "# Criando DataFrame com os valores selecionados\n",
        "data = {\n",
        "    'Age': [15, 23, 25],\n",
        "    'SystolicBP': [120, 130, 130],\n",
        "    'DiastolicBP': [60, 70, 80],\n",
        "    'BS': [6.1, 7.01, 10.0],\n",
        "    'BodyTemp': [98.0, 98.0, 98.0],\n",
        "    'HeartRate': [76, 78, 86]\n",
        "}\n",
        "\n",
        "entrada = pd.DataFrame(data)\n",
        "\n",
        "# Padronizando a entrada usando o scaler utilizado em X\n",
        "X_entrada = entrada.values.astype(float)\n",
        "rescaledEntradaX = scaler.transform(X_entrada)\n",
        "\n",
        "print(rescaledEntradaX)"
      ],
      "metadata": {
        "colab": {
          "base_uri": "https://localhost:8080/"
        },
        "id": "QKuPxebVhU6n",
        "outputId": "174660f4-5ae7-48c0-837d-4aaf7a8b047b"
      },
      "execution_count": null,
      "outputs": [
        {
          "output_type": "stream",
          "name": "stdout",
          "text": [
            "[[-1.10425321  0.36976548 -1.18600873 -0.79770964 -0.4852155   0.21005383]\n",
            " [-0.51024114  0.91339632 -0.46549297 -0.52127416 -0.4852155   0.45743429]\n",
            " [-0.36173812  0.91339632  0.25502279  0.38701388 -0.4852155   1.44695615]]\n"
          ]
        }
      ]
    },
    {
      "cell_type": "markdown",
      "source": [
        "### Predição de Classes dos Novos Dados\n",
        "\n",
        "Este código utiliza o modelo treinado para prever as classes dos novos dados padronizados e exibe as previsões."
      ],
      "metadata": {
        "id": "EtHOXb2gkPbv"
      }
    },
    {
      "cell_type": "code",
      "source": [
        "# Predição de classes para esses novos dados\n",
        "saidas = model.predict(rescaledEntradaX)\n",
        "print(saidas)"
      ],
      "metadata": {
        "id": "EE6V4KlhiROu",
        "colab": {
          "base_uri": "https://localhost:8080/"
        },
        "outputId": "0c330ea3-454f-4f38-bbe4-7035c348ca24"
      },
      "execution_count": null,
      "outputs": [
        {
          "output_type": "stream",
          "name": "stdout",
          "text": [
            "['low risk' 'mid risk' 'high risk']\n"
          ]
        }
      ]
    },
    {
      "cell_type": "markdown",
      "source": [
        "## **Análise de Resultado**"
      ],
      "metadata": {
        "id": "RLrrpBEICY91"
      }
    },
    {
      "cell_type": "markdown",
      "source": [
        "### Coerência dos Resultados\n",
        "\n",
        "Os resultados observados na base de teste fazem sentido, indicando que o modelo é capaz de generalizar para dados não vistos. Não foram observados problemas significativos de inconsistência nos resultados.\n",
        "\n",
        "---\n",
        "\n"
      ],
      "metadata": {
        "id": "JUgDGyWj78EB"
      }
    },
    {
      "cell_type": "markdown",
      "source": [
        "### Análise de Overfitting\n",
        "\n",
        "A avaliação com validação cruzada e o desempenho na base de teste indicam que o modelo não sofreu de overfitting. O uso de validação cruzada permitiu verificar a estabilidade dos resultados em diferentes partições dos dados, reduzindo o risco de overfitting.\n",
        "\n",
        "---\n",
        "\n"
      ],
      "metadata": {
        "id": "Od4VZWDb8G6Q"
      }
    },
    {
      "cell_type": "markdown",
      "source": [
        "## **Conclusão**"
      ],
      "metadata": {
        "id": "8qBku0CV_wio"
      }
    },
    {
      "cell_type": "markdown",
      "source": [
        "Na comparação entre os modelos testados, DecisionTreeClassifier, BaggingClassifier e RandomForestClassifier, apresentaram desempenho satisfatório, com alta acurácia. O DecisionTreeClassifier se destacou por sua baixa variabilidade, entregando resultados consistentes devido à simplicidade de sua estrutura. No entanto, seu desempenho ficou ligeiramente abaixo dos modelos de ensembles, que conseguem capturar melhor padrões complexos ao combinar múltiplas previsões. Entre os modelos de ensembles, o BaggingClassifier demonstrou bom equilíbrio entre acurácia e estabilidade, mas foi o RandomForestClassifier que se sobressaiu, alcançando a maior acurácia dentre os modelos avaliados."
      ],
      "metadata": {
        "id": "DaVCrQT__15_"
      }
    },
    {
      "cell_type": "markdown",
      "source": [
        "A escolha do RandomForestClassifier como a melhor solução se justifica pela combinação de alta precisão e robustez. Esse modelo, por agregar várias árvores de decisão e realizar uma votação para determinar a classificação final, minimiza o impacto de possíveis variações nas previsões individuais, proporcionando uma excelente capacidade de generalização. Essa característica é fundamental, pois aumenta a confiabilidade do modelo em dados não vistos, tornando-o uma solução superior ao balancear variabilidade e desempenho. Portanto, o RandomForestClassifier foi escolhido por seu desempenho consistente, alta acurácia, sendo a melhor opção para resolver o problema proposto."
      ],
      "metadata": {
        "id": "8VV1Kd1wAje2"
      }
    }
  ]
}